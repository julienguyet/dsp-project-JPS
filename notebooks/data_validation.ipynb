{
 "cells": [
  {
   "cell_type": "markdown",
   "metadata": {},
   "source": [
    "# Data Validation of a Random File"
   ]
  },
  {
   "cell_type": "code",
   "execution_count": 1,
   "metadata": {},
   "outputs": [],
   "source": [
    "%load_ext autoreload\n",
    "%autoreload 2\n",
    "import sys\n",
    "sys.path.append('..')\n",
    "from sales_prediction.__init__ import GOOD_DATA_DIRECTORY, BAD_DATA_DIRECTORY, RAW_DATA_DIRECTORY\n",
    "from gx.validation_job.data_quality import data_validation"
   ]
  },
  {
   "cell_type": "code",
   "execution_count": 2,
   "metadata": {},
   "outputs": [
    {
     "name": "stdout",
     "output_type": "stream",
     "text": [
      "Here is the selected file: ../data/raw_data/test_part_87.csv\n",
      "Corrupted Ratio = 0.0025284450063211127\n",
      "Good data has been moved to: ../data/good_data/good_data_1711451018.602709.csv\n",
      "Bad data has been moved to: ../data/bad_data/bad_data_1711451018.602709.csv\n",
      "File deleted successfully\n"
     ]
    }
   ],
   "source": [
    "data_validation(RAW_DATA_DIRECTORY, GOOD_DATA_DIRECTORY, BAD_DATA_DIRECTORY)"
   ]
  }
 ],
 "metadata": {
  "kernelspec": {
   "display_name": "ml",
   "language": "python",
   "name": "python3"
  },
  "language_info": {
   "codemirror_mode": {
    "name": "ipython",
    "version": 3
   },
   "file_extension": ".py",
   "mimetype": "text/x-python",
   "name": "python",
   "nbconvert_exporter": "python",
   "pygments_lexer": "ipython3",
   "version": "3.10.13"
  }
 },
 "nbformat": 4,
 "nbformat_minor": 2
}
