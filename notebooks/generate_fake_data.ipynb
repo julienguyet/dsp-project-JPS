{
 "cells": [
  {
   "cell_type": "code",
   "execution_count": 2,
   "metadata": {},
   "outputs": [],
   "source": [
    "from faker import Faker\n",
    "import random\n",
    "import psycopg2\n",
    "from psycopg2 import sql\n",
    "\n",
    "# Connect to your PostgreSQL database\n",
    "conn = psycopg2.connect(\n",
    "    dbname=\"postgres\",\n",
    "    user=\"airflow\",\n",
    "    password=\"airflow\",\n",
    "    host=\"localhost\",\n",
    "    port=\"5432\"\n",
    ")\n",
    "\n",
    "# Create a cursor object\n",
    "cur = conn.cursor()\n",
    "\n",
    "# Create a Faker instance\n",
    "fake = Faker()\n",
    "\n",
    "# Generate and insert fake data\n",
    "for _ in range(100):  # Adjust the number of rows as needed\n",
    "    store = random.randint(1, 10)\n",
    "    dept = random.randint(1, 5)\n",
    "    date = fake.date_between(start_date='-1y', end_date='today')\n",
    "    weekly_sales = round(random.uniform(10000, 50000), 2)\n",
    "    temperature = round(random.uniform(30, 100), 2)\n",
    "    fuel_price = round(random.uniform(2, 4), 3)\n",
    "    markdown1 = round(random.uniform(0, 1000), 2)\n",
    "    markdown2 = round(random.uniform(0, 1000), 2)\n",
    "    markdown3 = round(random.uniform(0, 1000), 2)\n",
    "    markdown4 = round(random.uniform(0, 1000), 2)\n",
    "    markdown5 = round(random.uniform(0, 1000), 2)\n",
    "    cpi = round(random.uniform(100, 300), 2)\n",
    "    unemployment = round(random.uniform(5, 15), 2)\n",
    "    is_holiday = random.choice([True, False])\n",
    "    type_ = random.choice(['A', 'B', 'C'])\n",
    "    size = random.randint(100000, 500000)\n",
    "\n",
    "    # Generate the SQL query to insert the fake data\n",
    "    insert_query = sql.SQL(\"\"\"\n",
    "        INSERT INTO features (\"Store\", \"Dept\", \"Date\", \"Weekly_Sales\", \"Temperature\", \"Fuel_Price\", \n",
    "                              \"MarkDown1\", \"MarkDown2\", \"MarkDown3\", \"MarkDown4\", \"MarkDown5\", \"CPI\", \n",
    "                              \"Unemployment\", \"IsHoliday\", \"Type\", \"Size\")\n",
    "        VALUES (%s, %s, %s, %s, %s, %s, %s, %s, %s, %s, %s, %s, %s, %s, %s, %s)\n",
    "    \"\"\")\n",
    "\n",
    "    # Execute the SQL query with the generated data\n",
    "    cur.execute(insert_query, (store, dept, date, weekly_sales, temperature, fuel_price,\n",
    "                                markdown1, markdown2, markdown3, markdown4, markdown5, cpi,\n",
    "                                unemployment, is_holiday, type_, size))\n",
    "\n",
    "# Commit the changes\n",
    "conn.commit()\n",
    "\n",
    "# Close the cursor and connection\n",
    "cur.close()\n",
    "conn.close()\n"
   ]
  },
  {
   "cell_type": "code",
   "execution_count": null,
   "metadata": {},
   "outputs": [],
   "source": []
  }
 ],
 "metadata": {
  "kernelspec": {
   "display_name": "ml",
   "language": "python",
   "name": "python3"
  },
  "language_info": {
   "codemirror_mode": {
    "name": "ipython",
    "version": 3
   },
   "file_extension": ".py",
   "mimetype": "text/x-python",
   "name": "python",
   "nbconvert_exporter": "python",
   "pygments_lexer": "ipython3",
   "version": "3.10.13"
  }
 },
 "nbformat": 4,
 "nbformat_minor": 2
}
