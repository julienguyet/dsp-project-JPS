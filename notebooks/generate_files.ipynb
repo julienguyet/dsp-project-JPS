{
 "cells": [
  {
   "cell_type": "markdown",
   "metadata": {},
   "source": [
    "## **<font color=#8e44ad>Merging files together</font>**"
   ]
  },
  {
   "cell_type": "code",
   "execution_count": 1,
   "metadata": {},
   "outputs": [],
   "source": [
    "import numpy as np\n",
    "import pandas as pd\n",
    "import sys\n",
    "sys.path.append('..')"
   ]
  },
  {
   "cell_type": "code",
   "execution_count": 3,
   "metadata": {},
   "outputs": [],
   "source": [
    "features = pd.read_csv(\"../../group_project/features.csv\")\n",
    "stores = pd.read_csv(\"../../group_project/stores.csv\")\n",
    "df = pd.read_csv(\"../../group_project/train.csv\")"
   ]
  },
  {
   "cell_type": "code",
   "execution_count": 4,
   "metadata": {},
   "outputs": [],
   "source": [
    "data = pd.merge(df.drop(columns=['IsHoliday']), features, on=['Store', 'Date'])"
   ]
  },
  {
   "cell_type": "code",
   "execution_count": 5,
   "metadata": {},
   "outputs": [],
   "source": [
    "full_data = pd.merge(data, stores, on=['Store'])"
   ]
  },
  {
   "cell_type": "code",
   "execution_count": 12,
   "metadata": {},
   "outputs": [],
   "source": [
    "output_path = '../data/walmart_sales.csv'\n",
    "full_data.to_csv(output_path, index=False)"
   ]
  },
  {
   "cell_type": "markdown",
   "metadata": {},
   "source": [
    "A function to create a train and a test file"
   ]
  },
  {
   "cell_type": "code",
   "execution_count": 7,
   "metadata": {},
   "outputs": [],
   "source": [
    "def split_file_train_test(input_file, train_ratio=0.8):\n",
    "\n",
    "    with open(input_file, 'rb') as f:\n",
    "        content = f.read()\n",
    "        file_size = len(content)\n",
    "        train_size = int(file_size * train_ratio)\n",
    "\n",
    "        # Create directory to store the split files\n",
    "        import os\n",
    "        output_dir = '../data'\n",
    "        os.makedirs(output_dir, exist_ok=True)\n",
    "\n",
    "        # Write train and test parts into separate CSV files\n",
    "        train_content = content[:train_size]\n",
    "        test_content = content[train_size:]\n",
    "\n",
    "        train_filename = os.path.join(output_dir, 'train.csv')\n",
    "        test_filename = os.path.join(output_dir, 'test.csv')\n",
    "\n",
    "        with open(train_filename, 'wb') as train_file:\n",
    "            train_file.write(train_content)\n",
    "\n",
    "        with open(test_filename, 'wb') as test_file:\n",
    "            test_file.write(test_content)\n",
    "\n",
    "        print('Train and test files created successfully.')\n"
   ]
  },
  {
   "cell_type": "code",
   "execution_count": 13,
   "metadata": {},
   "outputs": [
    {
     "name": "stdout",
     "output_type": "stream",
     "text": [
      "Train and test files created successfully.\n"
     ]
    }
   ],
   "source": [
    "split_file_train_test('../data/walmart_sales.csv', train_ratio=0.8)"
   ]
  },
  {
   "cell_type": "code",
   "execution_count": 19,
   "metadata": {},
   "outputs": [],
   "source": [
    "def split_file(input_file, num_parts):\n",
    "    \n",
    "    with open(input_file, 'rb') as f:\n",
    "        content = f.read()\n",
    "        file_size = len(content)\n",
    "        part_size = file_size // num_parts\n",
    "\n",
    "        # Create directory to store the split files\n",
    "        import os\n",
    "        output_dir = '../data'\n",
    "        os.makedirs(output_dir, exist_ok=True)\n",
    "\n",
    "        # Write each part into separate CSV files\n",
    "        for i in range(num_parts):\n",
    "            start_index = i * part_size\n",
    "            end_index = start_index + part_size\n",
    "            if i == num_parts - 1:  # Last part might be larger if file_size is not divisible by num_parts\n",
    "                end_index = file_size\n",
    "            part_content = content[start_index:end_index]\n",
    "            part_filename = os.path.join(output_dir, f'test_part_{i + 1}.csv')\n",
    "            with open(part_filename, 'wb') as part_file:\n",
    "                part_file.write(part_content)\n",
    "\n",
    "        print(f'{num_parts} parts created successfully.')"
   ]
  },
  {
   "cell_type": "code",
   "execution_count": 14,
   "metadata": {},
   "outputs": [
    {
     "name": "stderr",
     "output_type": "stream",
     "text": [
      "/var/folders/x9/wfxfy30n21j10t1dqkkhfjjm0000gn/T/ipykernel_5365/1892195746.py:1: DtypeWarning: Columns (13) have mixed types. Specify dtype option on import or set low_memory=False.\n",
      "  train_data = pd.read_csv('../data/train.csv')\n"
     ]
    }
   ],
   "source": [
    "train_data = pd.read_csv('../data/train.csv')"
   ]
  },
  {
   "cell_type": "code",
   "execution_count": 15,
   "metadata": {},
   "outputs": [
    {
     "data": {
      "text/html": [
       "<div>\n",
       "<style scoped>\n",
       "    .dataframe tbody tr th:only-of-type {\n",
       "        vertical-align: middle;\n",
       "    }\n",
       "\n",
       "    .dataframe tbody tr th {\n",
       "        vertical-align: top;\n",
       "    }\n",
       "\n",
       "    .dataframe thead th {\n",
       "        text-align: right;\n",
       "    }\n",
       "</style>\n",
       "<table border=\"1\" class=\"dataframe\">\n",
       "  <thead>\n",
       "    <tr style=\"text-align: right;\">\n",
       "      <th></th>\n",
       "      <th>Store</th>\n",
       "      <th>Dept</th>\n",
       "      <th>Date</th>\n",
       "      <th>Weekly_Sales</th>\n",
       "      <th>Temperature</th>\n",
       "      <th>Fuel_Price</th>\n",
       "      <th>MarkDown1</th>\n",
       "      <th>MarkDown2</th>\n",
       "      <th>MarkDown3</th>\n",
       "      <th>MarkDown4</th>\n",
       "      <th>MarkDown5</th>\n",
       "      <th>CPI</th>\n",
       "      <th>Unemployment</th>\n",
       "      <th>IsHoliday</th>\n",
       "      <th>Type</th>\n",
       "      <th>Size</th>\n",
       "    </tr>\n",
       "  </thead>\n",
       "  <tbody>\n",
       "    <tr>\n",
       "      <th>0</th>\n",
       "      <td>1</td>\n",
       "      <td>1</td>\n",
       "      <td>2010-02-05</td>\n",
       "      <td>24924.50</td>\n",
       "      <td>42.31</td>\n",
       "      <td>2.572</td>\n",
       "      <td>NaN</td>\n",
       "      <td>NaN</td>\n",
       "      <td>NaN</td>\n",
       "      <td>NaN</td>\n",
       "      <td>NaN</td>\n",
       "      <td>211.096358</td>\n",
       "      <td>8.106</td>\n",
       "      <td>False</td>\n",
       "      <td>A</td>\n",
       "      <td>151315.0</td>\n",
       "    </tr>\n",
       "    <tr>\n",
       "      <th>1</th>\n",
       "      <td>1</td>\n",
       "      <td>2</td>\n",
       "      <td>2010-02-05</td>\n",
       "      <td>50605.27</td>\n",
       "      <td>42.31</td>\n",
       "      <td>2.572</td>\n",
       "      <td>NaN</td>\n",
       "      <td>NaN</td>\n",
       "      <td>NaN</td>\n",
       "      <td>NaN</td>\n",
       "      <td>NaN</td>\n",
       "      <td>211.096358</td>\n",
       "      <td>8.106</td>\n",
       "      <td>False</td>\n",
       "      <td>A</td>\n",
       "      <td>151315.0</td>\n",
       "    </tr>\n",
       "    <tr>\n",
       "      <th>2</th>\n",
       "      <td>1</td>\n",
       "      <td>3</td>\n",
       "      <td>2010-02-05</td>\n",
       "      <td>13740.12</td>\n",
       "      <td>42.31</td>\n",
       "      <td>2.572</td>\n",
       "      <td>NaN</td>\n",
       "      <td>NaN</td>\n",
       "      <td>NaN</td>\n",
       "      <td>NaN</td>\n",
       "      <td>NaN</td>\n",
       "      <td>211.096358</td>\n",
       "      <td>8.106</td>\n",
       "      <td>False</td>\n",
       "      <td>A</td>\n",
       "      <td>151315.0</td>\n",
       "    </tr>\n",
       "    <tr>\n",
       "      <th>3</th>\n",
       "      <td>1</td>\n",
       "      <td>4</td>\n",
       "      <td>2010-02-05</td>\n",
       "      <td>39954.04</td>\n",
       "      <td>42.31</td>\n",
       "      <td>2.572</td>\n",
       "      <td>NaN</td>\n",
       "      <td>NaN</td>\n",
       "      <td>NaN</td>\n",
       "      <td>NaN</td>\n",
       "      <td>NaN</td>\n",
       "      <td>211.096358</td>\n",
       "      <td>8.106</td>\n",
       "      <td>False</td>\n",
       "      <td>A</td>\n",
       "      <td>151315.0</td>\n",
       "    </tr>\n",
       "    <tr>\n",
       "      <th>4</th>\n",
       "      <td>1</td>\n",
       "      <td>5</td>\n",
       "      <td>2010-02-05</td>\n",
       "      <td>32229.38</td>\n",
       "      <td>42.31</td>\n",
       "      <td>2.572</td>\n",
       "      <td>NaN</td>\n",
       "      <td>NaN</td>\n",
       "      <td>NaN</td>\n",
       "      <td>NaN</td>\n",
       "      <td>NaN</td>\n",
       "      <td>211.096358</td>\n",
       "      <td>8.106</td>\n",
       "      <td>False</td>\n",
       "      <td>A</td>\n",
       "      <td>151315.0</td>\n",
       "    </tr>\n",
       "  </tbody>\n",
       "</table>\n",
       "</div>"
      ],
      "text/plain": [
       "   Store  Dept        Date  Weekly_Sales  Temperature  Fuel_Price  MarkDown1  \\\n",
       "0      1     1  2010-02-05      24924.50        42.31       2.572        NaN   \n",
       "1      1     2  2010-02-05      50605.27        42.31       2.572        NaN   \n",
       "2      1     3  2010-02-05      13740.12        42.31       2.572        NaN   \n",
       "3      1     4  2010-02-05      39954.04        42.31       2.572        NaN   \n",
       "4      1     5  2010-02-05      32229.38        42.31       2.572        NaN   \n",
       "\n",
       "   MarkDown2  MarkDown3  MarkDown4  MarkDown5         CPI  Unemployment  \\\n",
       "0        NaN        NaN        NaN        NaN  211.096358         8.106   \n",
       "1        NaN        NaN        NaN        NaN  211.096358         8.106   \n",
       "2        NaN        NaN        NaN        NaN  211.096358         8.106   \n",
       "3        NaN        NaN        NaN        NaN  211.096358         8.106   \n",
       "4        NaN        NaN        NaN        NaN  211.096358         8.106   \n",
       "\n",
       "  IsHoliday Type      Size  \n",
       "0     False    A  151315.0  \n",
       "1     False    A  151315.0  \n",
       "2     False    A  151315.0  \n",
       "3     False    A  151315.0  \n",
       "4     False    A  151315.0  "
      ]
     },
     "execution_count": 15,
     "metadata": {},
     "output_type": "execute_result"
    }
   ],
   "source": [
    "train_data.head()"
   ]
  },
  {
   "cell_type": "code",
   "execution_count": 17,
   "metadata": {},
   "outputs": [
    {
     "name": "stdout",
     "output_type": "stream",
     "text": [
      "<class 'pandas.core.frame.DataFrame'>\n",
      "RangeIndex: 336241 entries, 0 to 336240\n",
      "Data columns (total 16 columns):\n",
      " #   Column        Non-Null Count   Dtype  \n",
      "---  ------        --------------   -----  \n",
      " 0   Store         336241 non-null  int64  \n",
      " 1   Dept          336241 non-null  int64  \n",
      " 2   Date          336241 non-null  object \n",
      " 3   Weekly_Sales  336240 non-null  float64\n",
      " 4   Temperature   336240 non-null  float64\n",
      " 5   Fuel_Price    336240 non-null  float64\n",
      " 6   MarkDown1     118342 non-null  float64\n",
      " 7   MarkDown2     92772 non-null   float64\n",
      " 8   MarkDown3     109136 non-null  float64\n",
      " 9   MarkDown4     114090 non-null  float64\n",
      " 10  MarkDown5     118539 non-null  float64\n",
      " 11  CPI           336240 non-null  float64\n",
      " 12  Unemployment  336240 non-null  float64\n",
      " 13  IsHoliday     336240 non-null  object \n",
      " 14  Type          336240 non-null  object \n",
      " 15  Size          336240 non-null  float64\n",
      "dtypes: float64(11), int64(2), object(3)\n",
      "memory usage: 41.0+ MB\n"
     ]
    }
   ],
   "source": [
    "train_data.info()"
   ]
  },
  {
   "cell_type": "code",
   "execution_count": 20,
   "metadata": {},
   "outputs": [
    {
     "name": "stdout",
     "output_type": "stream",
     "text": [
      "10 parts created successfully.\n"
     ]
    }
   ],
   "source": [
    "split_file('../data/walmart_sales.csv', 10)"
   ]
  }
 ],
 "metadata": {
  "kernelspec": {
   "display_name": "ml",
   "language": "python",
   "name": "python3"
  },
  "language_info": {
   "codemirror_mode": {
    "name": "ipython",
    "version": 3
   },
   "file_extension": ".py",
   "mimetype": "text/x-python",
   "name": "python",
   "nbconvert_exporter": "python",
   "pygments_lexer": "ipython3",
   "version": "3.9.16"
  }
 },
 "nbformat": 4,
 "nbformat_minor": 2
}
