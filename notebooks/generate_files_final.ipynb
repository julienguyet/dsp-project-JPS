{
 "cells": [
  {
   "cell_type": "code",
   "execution_count": 4,
   "metadata": {},
   "outputs": [],
   "source": [
    "import pandas as pd\n",
    "import os\n",
    "import csv\n",
    "import numpy as np"
   ]
  },
  {
   "cell_type": "code",
   "execution_count": 9,
   "metadata": {},
   "outputs": [],
   "source": [
    "def delete_data(data: str) -> None:\n",
    "    df = pd.read_csv(data)\n",
    "    cells_to_delete = int(df.size * 0.05)\n",
    "    rows, cols = np.unravel_index(np.random.choice(df.size, cells_to_delete, replace=False), df.shape)\n",
    "    df.iloc[rows, cols] = np.nan\n",
    "    df.to_csv('../data/full_data/walmart_sales_with_NA.csv', encoding='utf-8', index=False)\n",
    "    print(\"csv file has been successfully generated\")"
   ]
  },
  {
   "cell_type": "code",
   "execution_count": 10,
   "metadata": {},
   "outputs": [
    {
     "name": "stderr",
     "output_type": "stream",
     "text": [
      "/var/folders/x9/wfxfy30n21j10t1dqkkhfjjm0000gn/T/ipykernel_4330/1464362111.py:5: FutureWarning: Setting an item of incompatible dtype is deprecated and will raise an error in a future version of pandas. Value 'nan' has dtype incompatible with bool, please explicitly cast to a compatible dtype first.\n",
      "  df.iloc[rows, cols] = np.nan\n"
     ]
    },
    {
     "name": "stdout",
     "output_type": "stream",
     "text": [
      "csv file has been successfully generated\n"
     ]
    }
   ],
   "source": [
    "delete_data('../data/full_data/walmart_sales.csv')"
   ]
  },
  {
   "cell_type": "code",
   "execution_count": 11,
   "metadata": {},
   "outputs": [
    {
     "name": "stdout",
     "output_type": "stream",
     "text": [
      "100 parts created successfully.\n"
     ]
    }
   ],
   "source": [
    "import os\n",
    "\n",
    "def split_file(input_file: str, output_dir: str, num_parts int) -> None:\n",
    "    with open(input_file, 'r') as f:\n",
    "        column_titles = f.readline().strip().split(',')\n",
    "        content = f.readlines()[1:]  # Skip the header line and read the rest of the lines\n",
    "        file_size = len(content)\n",
    "        part_size = file_size // num_parts\n",
    "\n",
    "        # Create directory to store files\n",
    "        os.makedirs(output_dir, exist_ok=True)\n",
    "\n",
    "        # Write each part into separate CSV files\n",
    "        for i in range(num_parts):\n",
    "            start_index = i * part_size\n",
    "            end_index = start_index + part_size\n",
    "            if i == num_parts - 1:  # Last part might be larger if file_size is not divisible by num_parts\n",
    "                end_index = file_size\n",
    "            \n",
    "            part_content = content[start_index:end_index]\n",
    "            part_filename = os.path.join(output_dir, f'test_part_{i + 1}.csv')\n",
    "            with open(part_filename, 'w', newline='') as part_file:\n",
    "                part_file.write(','.join(column_titles[:3] + column_titles[4:]) + '\\n')  # Exclude 'Weekly_Sales' column\n",
    "                \n",
    "                # Write content row by row\n",
    "                for line in part_content:\n",
    "                    values = line.strip().split(',')\n",
    "                    # Ensure that each row has the correct number of columns\n",
    "                    corrected_values = values[:3] + values[4:]\n",
    "                    part_file.write(','.join(corrected_values) + '\\n')\n",
    "\n",
    "    print(f'{num_parts} parts created successfully.')\n",
    "\n",
    "\n",
    "split_file(input_file='../data/full_data/walmart_sales_with_NA.csv', output_dir='../airflow/dags/raw_data', num_parts=100)\n"
   ]
  }
 ],
 "metadata": {
  "kernelspec": {
   "display_name": "ml",
   "language": "python",
   "name": "python3"
  },
  "language_info": {
   "codemirror_mode": {
    "name": "ipython",
    "version": 3
   },
   "file_extension": ".py",
   "mimetype": "text/x-python",
   "name": "python",
   "nbconvert_exporter": "python",
   "pygments_lexer": "ipython3",
   "version": "3.10.13"
  }
 },
 "nbformat": 4,
 "nbformat_minor": 2
}
